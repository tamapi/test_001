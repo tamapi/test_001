{
  "nbformat": 4,
  "nbformat_minor": 0,
  "metadata": {
    "colab": {
      "name": "test_101_Hello.ipynb",
      "provenance": [],
      "toc_visible": true,
      "authorship_tag": "ABX9TyPlHniZFb67Qx0V9opJzP91",
      "include_colab_link": true
    },
    "kernelspec": {
      "name": "python3",
      "display_name": "Python 3"
    },
    "language_info": {
      "name": "python"
    }
  },
  "cells": [
    {
      "cell_type": "markdown",
      "metadata": {
        "id": "view-in-github",
        "colab_type": "text"
      },
      "source": [
        "<a href=\"https://colab.research.google.com/github/tamapi/test_001/blob/master/test_101_Hello.ipynb\" target=\"_parent\"><img src=\"https://colab.research.google.com/assets/colab-badge.svg\" alt=\"Open In Colab\"/></a>"
      ]
    },
    {
      "cell_type": "code",
      "execution_count": 6,
      "metadata": {
        "colab": {
          "base_uri": "https://localhost:8080/"
        },
        "id": "WLoQvxgQE3_1",
        "outputId": "e97d0b5d-51e4-42fa-b98a-0157d85ce5d3"
      },
      "outputs": [
        {
          "output_type": "stream",
          "name": "stdout",
          "text": [
            "Hello, World! ---10---\n",
            "Hello, World! ---2---\n",
            "Hello, World! ---3---\n",
            "Hello, World! ---4---\n",
            "Hello, World! ---5---\n"
          ]
        }
      ],
      "source": [
        "#!/usr/bin/env python\n",
        "from PIL import Image, ImageDraw\n",
        "\n",
        "def main():\n",
        "\n",
        "  #-----------------------------------------------------------\n",
        "  print('Hello, World! ---10---')\n",
        "  #-----------------------------------------------------------\n",
        "  # カラーの画像データ（Imageオブジェクト）の作成\n",
        "  img = Image.new(\"RGB\", (300, 100), \"White\")\n",
        "  #-----------------------------------------------------------\n",
        "  print('Hello, World! ---2---')\n",
        "  #-----------------------------------------------------------  # ImageDrawオブジェクトの作成\n",
        "  draw = ImageDraw.Draw(img)\n",
        "  #-----------------------------------------------------------\n",
        "  print('Hello, World! ---3---')\n",
        "  #-----------------------------------------------------------\n",
        "  # 直線の描画\n",
        "  draw.line([(10, 90), (290, 10)], fill = \"Blue\", width = 10)\n",
        "  #-----------------------------------------------------------\n",
        "  print('Hello, World! ---4---')\n",
        "  #-----------------------------------------------------------\n",
        "  # 画像の表示\n",
        "  img.show()\n",
        "  #-----------------------------------------------------------\n",
        "  print('Hello, World! ---5---')\n",
        "#-----------------------------------------------------------\n",
        "\n",
        "if __name__ == '__main__':\n",
        "  main()"
      ]
    },
    {
      "cell_type": "markdown",
      "source": [
        "# 新しいセクション"
      ],
      "metadata": {
        "id": "xnt1-ZSQE5dv"
      }
    }
  ]
}
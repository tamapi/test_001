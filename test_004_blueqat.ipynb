{
  "nbformat": 4,
  "nbformat_minor": 0,
  "metadata": {
    "colab": {
      "name": "test_004_blueqat.ipynb",
      "provenance": [],
      "collapsed_sections": [],
      "toc_visible": true,
      "authorship_tag": "ABX9TyPcck8b9ovtr4HZAb2gtJL2",
      "include_colab_link": true
    },
    "kernelspec": {
      "name": "python3",
      "display_name": "Python 3"
    },
    "language_info": {
      "name": "python"
    }
  },
  "cells": [
    {
      "cell_type": "markdown",
      "metadata": {
        "id": "view-in-github",
        "colab_type": "text"
      },
      "source": [
        "<a href=\"https://colab.research.google.com/github/tamapi/test_001/blob/master/test_004_blueqat.ipynb\" target=\"_parent\"><img src=\"https://colab.research.google.com/assets/colab-badge.svg\" alt=\"Open In Colab\"/></a>"
      ]
    },
    {
      "cell_type": "code",
      "execution_count": 8,
      "metadata": {
        "colab": {
          "base_uri": "https://localhost:8080/",
          "height": 378
        },
        "id": "VE9EwmG2YJMp",
        "outputId": "c65f6d9a-b560-40c3-974c-dbe159ca4be5"
      },
      "outputs": [
        {
          "output_type": "error",
          "ename": "ModuleNotFoundError",
          "evalue": "ignored",
          "traceback": [
            "\u001b[0;31m---------------------------------------------------------------------------\u001b[0m",
            "\u001b[0;31mModuleNotFoundError\u001b[0m                       Traceback (most recent call last)",
            "\u001b[0;32m<ipython-input-8-b618cea9ceb4>\u001b[0m in \u001b[0;36m<module>\u001b[0;34m()\u001b[0m\n\u001b[1;32m     21\u001b[0m \u001b[0;34m\u001b[0m\u001b[0m\n\u001b[1;32m     22\u001b[0m \u001b[0;31m#------------------------------------------\u001b[0m\u001b[0;34m\u001b[0m\u001b[0;34m\u001b[0m\u001b[0;34m\u001b[0m\u001b[0m\n\u001b[0;32m---> 23\u001b[0;31m \u001b[0;32mfrom\u001b[0m \u001b[0mblueqat\u001b[0m \u001b[0;32mimport\u001b[0m \u001b[0mvqe\u001b[0m\u001b[0;34m\u001b[0m\u001b[0;34m\u001b[0m\u001b[0m\n\u001b[0m\u001b[1;32m     24\u001b[0m \u001b[0;32mfrom\u001b[0m \u001b[0mblueqat\u001b[0m\u001b[0;34m.\u001b[0m\u001b[0mpauli\u001b[0m \u001b[0;32mimport\u001b[0m \u001b[0mZ\u001b[0m\u001b[0;34m\u001b[0m\u001b[0;34m\u001b[0m\u001b[0m\n\u001b[1;32m     25\u001b[0m \u001b[0;32mfrom\u001b[0m \u001b[0mblueqat\u001b[0m\u001b[0;34m.\u001b[0m\u001b[0mutils\u001b[0m \u001b[0;32mimport\u001b[0m \u001b[0mqaoa\u001b[0m\u001b[0;34m\u001b[0m\u001b[0;34m\u001b[0m\u001b[0m\n",
            "\u001b[0;31mModuleNotFoundError\u001b[0m: No module named 'blueqat'",
            "",
            "\u001b[0;31m---------------------------------------------------------------------------\u001b[0;32m\nNOTE: If your import is failing due to a missing package, you can\nmanually install dependencies using either !pip or !apt.\n\nTo view examples of installing some common dependencies, click the\n\"Open Examples\" button below.\n\u001b[0;31m---------------------------------------------------------------------------\u001b[0m\n"
          ],
          "errorDetails": {
            "actions": [
              {
                "action": "open_url",
                "actionText": "Open Examples",
                "url": "/notebooks/snippets/importing_libraries.ipynb"
              }
            ]
          }
        }
      ],
      "source": [
        "#@title\n",
        "\n",
        "#----------------------------------------\n",
        "#from blueqat import Circuit\n",
        "\n",
        "#initialization of circuit\n",
        "#Circuit()\n",
        "#-----------------------------------------\n",
        "\n",
        "#import networkx as nx\n",
        "#import matplotlib.pyplot as plt\n",
        "\n",
        "#n = 70\n",
        "#m = 130\n",
        "#seed = 14\n",
        "\n",
        "#options = {'node_size': 100}\n",
        "\n",
        "#G = nx.gnm_random_graph(n, m, seed = seed)\n",
        "#nx.draw(G, **options)\n",
        "\n",
        "#------------------------------------------\n",
        "from blueqat import vqe\n",
        "from blueqat.pauli import Z\n",
        "from blueqat.utils import qaoa\n",
        "import numpy as np\n",
        "\n",
        "hamiltonian = sum(Z[e[0]]*Z[e[1]] for e in G.edges)\n",
        "step = 1\n",
        "\n",
        "result = qaoa(hamiltonian, step)\n",
        "b = result.circuit.run(shots=10)\n",
        "sample = b.most_common(1)[0][0]\n",
        "\n",
        "print(\"hamiltonian:\" + str(hamiltonian))\n",
        "print(\"sample:\"+ str(sample))\n",
        "\n",
        "nx.draw(G, **options, node_color=[int(s) for s in list(sample)])\n"
      ]
    },
    {
      "cell_type": "code",
      "source": [
        ""
      ],
      "metadata": {
        "id": "AFyoHQSedHwy"
      },
      "execution_count": null,
      "outputs": []
    },
    {
      "cell_type": "markdown",
      "source": [
        ""
      ],
      "metadata": {
        "id": "zANY5gzMdJJa"
      }
    },
    {
      "cell_type": "code",
      "source": [
        ""
      ],
      "metadata": {
        "id": "L1LBwfLNZVkO"
      },
      "execution_count": null,
      "outputs": []
    }
  ]
}
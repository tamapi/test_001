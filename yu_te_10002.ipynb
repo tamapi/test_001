{
  "nbformat": 4,
  "nbformat_minor": 0,
  "metadata": {
    "colab": {
      "name": "yu_te_10002.ipynb",
      "provenance": [],
      "collapsed_sections": [],
      "toc_visible": true,
      "history_visible": true,
      "authorship_tag": "ABX9TyMYTzlt/cwDRU/1xfkHL6+K",
      "include_colab_link": true
    },
    "kernelspec": {
      "name": "python3",
      "display_name": "Python 3"
    },
    "language_info": {
      "name": "python"
    },
    "gpuClass": "standard"
  },
  "cells": [
    {
      "cell_type": "markdown",
      "metadata": {
        "id": "view-in-github",
        "colab_type": "text"
      },
      "source": [
        "<a href=\"https://colab.research.google.com/github/tamapi/test_001/blob/master/yu_te_10002.ipynb\" target=\"_parent\"><img src=\"https://colab.research.google.com/assets/colab-badge.svg\" alt=\"Open In Colab\"/></a>"
      ]
    },
    {
      "cell_type": "code",
      "source": [
        ""
      ],
      "metadata": {
        "id": "tSYfP4BRB3JM"
      },
      "execution_count": null,
      "outputs": []
    },
    {
      "cell_type": "code",
      "execution_count": null,
      "metadata": {
        "colab": {
          "base_uri": "https://localhost:8080/"
        },
        "id": "Ob51SJn4VI_U",
        "outputId": "e57be285-19f2-4cec-a478-a57a76e42c04"
      },
      "outputs": [
        {
          "output_type": "stream",
          "name": "stdout",
          "text": [
            "Hello, World! ---10---\n",
            "Hello, World! ---2---\n",
            "Hello, World! ---3---\n",
            "Hello, World! ---4---\n",
            "Hello, World! ---5---\n"
          ]
        }
      ],
      "source": [
        "\n",
        "\n",
        "#!/usr/bin/env python\n",
        "=\n",
        "\n",
        "from PIL import Image, ImageDraw\n",
        "\n",
        "def main():\n",
        "\n",
        "  #-----------------------------------------------------------\n",
        "  print('Hello, World! ---10---')\n",
        "  #-----------------------------------------------------------\n",
        "  # カラーの画像データ（Imageオブジェクト）の作成\n",
        "  img = Image.new(\"RGB\", (300, 100), \"White\")\n",
        "  #-----------------------------------------------------------\n",
        "  print('Hello, World! ---2---')\n",
        "  #-----------------------------------------------------------  # ImageDrawオブジェクトの作成\n",
        "  draw = ImageDraw.Draw(img)\n",
        "  #-----------------------------------------------------------\n",
        "  print('Hello, World! ---3---')\n",
        "  #-----------------------------------------------------------\n",
        "  # 直線の描画\n",
        "  draw.line([(10, 90), (290, 10)], fill = \"Blue\", width = 10)\n",
        "  #-----------------------------------------------------------\n",
        "  print('Hello, World! ---4---')\n",
        "  #-----------------------------------------------------------\n",
        "  # 画像の表示\n",
        "  img.show()\n",
        "  #-----------------------------------------------------------\n",
        "  print('Hello, World! ---5---')\n",
        "#-----------------------------------------------------------\n",
        "\n",
        "if __name__ == '__main__':\n",
        "\n",
        "  #================================================\n",
        "  # Google Colabでインストールされているパッケージの確認\n",
        "\n",
        "  import pip\n",
        "  installed_packages = pip.get_installed_distributions()\n",
        "  installed_packages_list = sorted([\"%s==%s\" % (i.key, i.version)\n",
        "       for i in installed_packages])\n",
        "  print(installed_packages_list)\n",
        "\n",
        "  #===============================================\n",
        "  main()\n"
      ]
    },
    {
      "cell_type": "code",
      "execution_count": null,
      "metadata": {
        "colab": {
          "base_uri": "https://localhost:8080/"
        },
        "outputId": "e57be285-19f2-4cec-a478-a57a76e42c04",
        "id": "gQBeBJXTQurz"
      },
      "outputs": [
        {
          "output_type": "stream",
          "name": "stdout",
          "text": [
            "Hello, World! ---10---\n",
            "Hello, World! ---2---\n",
            "Hello, World! ---3---\n",
            "Hello, World! ---4---\n",
            "Hello, World! ---5---\n"
          ]
        }
      ],
      "source": [
        "\n",
        "\n",
        "#!/usr/bin/env python\n",
        "=\n",
        "\n",
        "from PIL import Image, ImageDraw\n",
        "\n",
        "def main():\n",
        "\n",
        "  #-----------------------------------------------------------\n",
        "  print('Hello, World! ---10---')\n",
        "  #-----------------------------------------------------------\n",
        "  # カラーの画像データ（Imageオブジェクト）の作成\n",
        "  img = Image.new(\"RGB\", (300, 100), \"White\")\n",
        "  #-----------------------------------------------------------\n",
        "  print('Hello, World! ---2---')\n",
        "  #-----------------------------------------------------------  # ImageDrawオブジェクトの作成\n",
        "  draw = ImageDraw.Draw(img)\n",
        "  #-----------------------------------------------------------\n",
        "  print('Hello, World! ---3---')\n",
        "  #-----------------------------------------------------------\n",
        "  # 直線の描画\n",
        "  draw.line([(10, 90), (290, 10)], fill = \"Blue\", width = 10)\n",
        "  #-----------------------------------------------------------\n",
        "  print('Hello, World! ---4---')\n",
        "  #-----------------------------------------------------------\n",
        "  # 画像の表示\n",
        "  img.show()\n",
        "  #-----------------------------------------------------------\n",
        "  print('Hello, World! ---5---')\n",
        "#-----------------------------------------------------------\n",
        "\n",
        "if __name__ == '__main__':\n",
        "\n",
        "  #================================================\n",
        "  # Google Colabでインストールされているパッケージの確認\n",
        "\n",
        "  import pip\n",
        "  installed_packages = pip.get_installed_distributions()\n",
        "  installed_packages_list = sorted([\"%s==%s\" % (i.key, i.version)\n",
        "       for i in installed_packages])\n",
        "  print(installed_packages_list)\n",
        "\n",
        "  #===============================================\n",
        "  main()\n"
      ]
    },
    {
      "cell_type": "code",
      "execution_count": null,
      "metadata": {
        "colab": {
          "base_uri": "https://localhost:8080/"
        },
        "outputId": "e57be285-19f2-4cec-a478-a57a76e42c04",
        "id": "0tWAUjdRQRrE"
      },
      "outputs": [
        {
          "output_type": "stream",
          "name": "stdout",
          "text": [
            "Hello, World! ---10---\n",
            "Hello, World! ---2---\n",
            "Hello, World! ---3---\n",
            "Hello, World! ---4---\n",
            "Hello, World! ---5---\n"
          ]
        }
      ],
      "source": [
        "\n",
        "\n",
        "#!/usr/bin/env python\n",
        "=\n",
        "\n",
        "from PIL import Image, ImageDraw\n",
        "\n",
        "def main():\n",
        "\n",
        "  #-----------------------------------------------------------\n",
        "  print('Hello, World! ---10---')\n",
        "  #-----------------------------------------------------------\n",
        "  # カラーの画像データ（Imageオブジェクト）の作成\n",
        "  img = Image.new(\"RGB\", (300, 100), \"White\")\n",
        "  #-----------------------------------------------------------\n",
        "  print('Hello, World! ---2---')\n",
        "  #-----------------------------------------------------------  # ImageDrawオブジェクトの作成\n",
        "  draw = ImageDraw.Draw(img)\n",
        "  #-----------------------------------------------------------\n",
        "  print('Hello, World! ---3---')\n",
        "  #-----------------------------------------------------------\n",
        "  # 直線の描画\n",
        "  draw.line([(10, 90), (290, 10)], fill = \"Blue\", width = 10)\n",
        "  #-----------------------------------------------------------\n",
        "  print('Hello, World! ---4---')\n",
        "  #-----------------------------------------------------------\n",
        "  # 画像の表示\n",
        "  img.show()\n",
        "  #-----------------------------------------------------------\n",
        "  print('Hello, World! ---5---')\n",
        "#-----------------------------------------------------------\n",
        "\n",
        "if __name__ == '__main__':\n",
        "\n",
        "  #================================================\n",
        "  # Google Colabでインストールされているパッケージの確認\n",
        "\n",
        "  #import pip\n",
        "  #installed_packages = pip.get_installed_distributions()\n",
        "  #installed_packages_list = sorted([\"%s==%s\" % (i.key, i.version)\n",
        "  #     for i in installed_packages])\n",
        "  #print(installed_packages_list)\n",
        "\n",
        "  #===============================================\n",
        "  main()\n"
      ]
    },
    {
      "cell_type": "code",
      "source": [
        ""
      ],
      "metadata": {
        "id": "rFgGgP9gB8g2"
      },
      "execution_count": null,
      "outputs": []
    }
  ]
}
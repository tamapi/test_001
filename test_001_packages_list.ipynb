{
  "nbformat": 4,
  "nbformat_minor": 0,
  "metadata": {
    "colab": {
      "name": "test_001_packages_list.ipynb",
      "provenance": [],
      "authorship_tag": "ABX9TyPpqIu4k5cy27BVgBp1E6P2",
      "include_colab_link": true
    },
    "kernelspec": {
      "name": "python3",
      "display_name": "Python 3"
    },
    "language_info": {
      "name": "python"
    }
  },
  "cells": [
    {
      "cell_type": "markdown",
      "metadata": {
        "id": "view-in-github",
        "colab_type": "text"
      },
      "source": [
        "<a href=\"https://colab.research.google.com/github/tamapi/test_001/blob/master/test_001_packages_list.ipynb\" target=\"_parent\"><img src=\"https://colab.research.google.com/assets/colab-badge.svg\" alt=\"Open In Colab\"/></a>"
      ]
    },
    {
      "cell_type": "code",
      "execution_count": null,
      "metadata": {
        "id": "GPgeAlN5K0LN"
      },
      "outputs": [],
      "source": [
        "print('Hello, World! ---5---')\n",
        "import pip\n",
        "print('Hello, World! ---52---')\n",
        "from pip._internal.utils.misc import get_installed_distributions\n",
        "print('Hello, World! ---53---')\n",
        "#from pip import get_installed_distributions\n",
        "installed_packages = get_installed_distributions()\n",
        "installed_packages_list = sorted([\"%s==%s\" % (i.key, i.version)\n",
        "     for i in installed_packages])\n",
        "print(installed_packages_list)\n",
        "\n",
        "for num in range(0, installed_packages):\n",
        "    print(num)\n",
        "    "
      ]
    }
  ]
}
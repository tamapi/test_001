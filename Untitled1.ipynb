{
  "nbformat": 4,
  "nbformat_minor": 0,
  "metadata": {
    "colab": {
      "name": "Untitled1.ipynb",
      "provenance": [],
      "collapsed_sections": [],
      "toc_visible": true,
      "history_visible": true,
      "authorship_tag": "ABX9TyPJS4FyP/9PxqrVvGrWevkI",
      "include_colab_link": true
    },
    "kernelspec": {
      "name": "python3",
      "display_name": "Python 3"
    },
    "language_info": {
      "name": "python"
    },
    "gpuClass": "standard"
  },
  "cells": [
    {
      "cell_type": "markdown",
      "metadata": {
        "id": "view-in-github",
        "colab_type": "text"
      },
      "source": [
        "<a href=\"https://colab.research.google.com/github/tamapi/test_001/blob/master/Untitled1.ipynb\" target=\"_parent\"><img src=\"https://colab.research.google.com/assets/colab-badge.svg\" alt=\"Open In Colab\"/></a>"
      ]
    },
    {
      "cell_type": "code",
      "execution_count": 4,
      "metadata": {
        "colab": {
          "base_uri": "https://localhost:8080/"
        },
        "id": "Ob51SJn4VI_U",
        "outputId": "07d8d867-c1a8-49b4-d25f-04f18ab447d6"
      },
      "outputs": [
        {
          "output_type": "stream",
          "name": "stdout",
          "text": [
            "Hello, World! ---10---\n",
            "Hello, World! ---2---\n",
            "Hello, World! ---3---\n",
            "Hello, World! ---4---\n",
            "Hello, World! ---5---\n"
          ]
        }
      ],
      "source": [
        "\n",
        "\n",
        "#!/usr/bin/env python\n",
        "from PIL import Image, ImageDraw\n",
        "\n",
        "def main():\n",
        "\n",
        "  #-----------------------------------------------------------\n",
        "  print('Hello, World! ---10---')\n",
        "  #-----------------------------------------------------------\n",
        "  # カラーの画像データ（Imageオブジェクト）の作成\n",
        "  img = Image.new(\"RGB\", (300, 100), \"White\")\n",
        "  #-----------------------------------------------------------\n",
        "  print('Hello, World! ---2---')\n",
        "  #-----------------------------------------------------------  # ImageDrawオブジェクトの作成\n",
        "  draw = ImageDraw.Draw(img)\n",
        "  #-----------------------------------------------------------\n",
        "  print('Hello, World! ---3---')\n",
        "  #-----------------------------------------------------------\n",
        "  # 直線の描画\n",
        "  draw.line([(10, 90), (290, 10)], fill = \"Blue\", width = 10)\n",
        "  #-----------------------------------------------------------\n",
        "  print('Hello, World! ---4---')\n",
        "  #-----------------------------------------------------------\n",
        "  # 画像の表示\n",
        "  img.show()\n",
        "  #-----------------------------------------------------------\n",
        "  print('Hello, World! ---5---')\n",
        "#-----------------------------------------------------------\n",
        "\n",
        "if __name__ == '__main__':\n",
        "  main()\n"
      ]
    },
    {
      "cell_type": "markdown",
      "source": [
        "# 新しいセクション"
      ],
      "metadata": {
        "id": "eHL6H7nFZGYr"
      }
    }
  ]
}